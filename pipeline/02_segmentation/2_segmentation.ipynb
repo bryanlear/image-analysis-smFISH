{
 "cells": [
  {
   "cell_type": "code",
   "execution_count": 1,
   "id": "1635c47d",
   "metadata": {},
   "outputs": [
    {
     "name": "stdout",
     "output_type": "stream",
     "text": [
      "\n",
      "\n",
      "Welcome to CellposeSAM, cellpose v\n",
      "cellpose version: \t4.0.4 \n",
      "platform:       \tlinux \n",
      "python version: \t3.12.9 \n",
      "torch version:  \t2.7.1+cu126! The neural network component of\n",
      "CPSAM is much larger than in previous versions and CPU excution is slow. \n",
      "We encourage users to use GPU/MPS if available. \n",
      "\n",
      "\n"
     ]
    },
    {
     "name": "stderr",
     "output_type": "stream",
     "text": [
      "model_type argument is not used in v4.0.1+. Ignoring this argument...\n"
     ]
    },
    {
     "name": "stdout",
     "output_type": "stream",
     "text": [
      "Base processed data directory: ../data/processed\n",
      "\n",
      "--- STARTING NUCLEUS SEGMENTATION (PRE-TRAINED 'nuclei' MODEL) ---\n",
      "Processing nuclei for condition: DMSO\n",
      "Processing nuclei for condition: JQ1\n",
      "Processing nuclei for condition: TSA\n"
     ]
    },
    {
     "name": "stderr",
     "output_type": "stream",
     "text": [
      "model_type argument is not used in v4.0.1+. Ignoring this argument...\n"
     ]
    },
    {
     "name": "stdout",
     "output_type": "stream",
     "text": [
      "--- Nucleus segmentation complete. ---\n",
      "\n",
      "--- STARTING CELL SEGMENTATION (PRE-TRAINED 'cyto2' MODEL) ---\n",
      "Processing cells for condition: DMSO\n"
     ]
    },
    {
     "name": "stderr",
     "output_type": "stream",
     "text": [
      "no seeds found in get_masks_torch - no masks found.\n"
     ]
    },
    {
     "name": "stdout",
     "output_type": "stream",
     "text": [
      "Processing cells for condition: JQ1\n"
     ]
    },
    {
     "name": "stderr",
     "output_type": "stream",
     "text": [
      "no seeds found in get_masks_torch - no masks found.\n",
      "no seeds found in get_masks_torch - no masks found.\n"
     ]
    },
    {
     "name": "stdout",
     "output_type": "stream",
     "text": [
      "Processing cells for condition: TSA\n"
     ]
    },
    {
     "name": "stderr",
     "output_type": "stream",
     "text": [
      "no seeds found in get_masks_torch - no masks found.\n",
      "no seeds found in get_masks_torch - no masks found.\n"
     ]
    },
    {
     "name": "stdout",
     "output_type": "stream",
     "text": [
      "--- Cell segmentation complete. ---\n"
     ]
    }
   ],
   "source": [
    "import os\n",
    "import numpy as np\n",
    "import tifffile\n",
    "from cellpose import models\n",
    "\n",
    "BASE_DIR = \"..\"\n",
    "PROCESSED_DIR = os.path.join(BASE_DIR, \"data\", \"processed\")\n",
    "CONDITIONS = [\"DMSO\", \"JQ1\", \"TSA\"]\n",
    "\n",
    "print(f\"Base processed data directory: {PROCESSED_DIR}\")\n",
    "\n",
    "# --- Segment Nuclei Channel 0 \n",
    "print(\"\\n--- STARTING NUCLEUS SEGMENTATION (PRE-TRAINED 'nuclei' MODEL) ---\")\n",
    "nuc_model = models.CellposeModel(gpu=True, model_type='nuclei')\n",
    "\n",
    "for condition in CONDITIONS:\n",
    "    input_dir = os.path.join(PROCESSED_DIR, condition, \"CH0\")\n",
    "    output_dir = os.path.join(PROCESSED_DIR, condition, \"CH0_masks\")\n",
    "    os.makedirs(output_dir, exist_ok=True)\n",
    "    \n",
    "    if not os.path.isdir(input_dir):\n",
    "        print(f\"Warning: Skipping nucleus segmentation for {condition}, directory not found.\")\n",
    "        continue\n",
    "\n",
    "    print(f\"Processing nuclei for condition: {condition}\")\n",
    "    image_files = [f for f in os.listdir(input_dir) if f.endswith('.tif')]\n",
    "    \n",
    "    for filename in image_files:\n",
    "        try:\n",
    "            img = tifffile.imread(os.path.join(input_dir, filename))\n",
    "            masks, _, _ = nuc_model.eval(img, diameter=None)\n",
    "            mask_path = os.path.join(output_dir, filename)\n",
    "            tifffile.imwrite(mask_path, masks.astype(np.uint16))\n",
    "        except Exception as e:\n",
    "            print(f\"  - FAILED to process {filename}: {e}\")\n",
    "\n",
    "print(\"--- Nucleus segmentation complete. ---\")\n",
    "\n",
    "\n",
    "# --- Segment Cells Channel 1 \n",
    "print(\"\\n--- STARTING CELL SEGMENTATION (PRE-TRAINED 'cyto2' MODEL) ---\")\n",
    "cell_model = models.CellposeModel(gpu=True, model_type='cyto2')\n",
    "\n",
    "for condition in CONDITIONS:\n",
    "    input_dir = os.path.join(PROCESSED_DIR, condition, \"CH1\")\n",
    "    output_dir = os.path.join(PROCESSED_DIR, condition, \"CH1_masks\")\n",
    "    os.makedirs(output_dir, exist_ok=True)\n",
    "    \n",
    "    if not os.path.isdir(input_dir):\n",
    "        print(f\"Warning: Skipping cell segmentation for {condition}, directory not found.\")\n",
    "        continue\n",
    "\n",
    "    print(f\"Processing cells for condition: {condition}\")\n",
    "    image_files = [f for f in os.listdir(input_dir) if f.endswith('.tif')]\n",
    "\n",
    "    for filename in image_files:\n",
    "        try:\n",
    "            img = tifffile.imread(os.path.join(input_dir, filename))\n",
    "            masks, _, _ = cell_model.eval(img, diameter=None)\n",
    "            mask_path = os.path.join(output_dir, filename)\n",
    "            tifffile.imwrite(mask_path, masks.astype(np.uint16))\n",
    "        except Exception as e:\n",
    "            print(f\"  - FAILED to process {filename}: {e}\")\n",
    "            \n",
    "print(\"--- Cell segmentation complete. ---\")"
   ]
  }
 ],
 "metadata": {
  "kernelspec": {
   "display_name": "base",
   "language": "python",
   "name": "python3"
  },
  "language_info": {
   "codemirror_mode": {
    "name": "ipython",
    "version": 3
   },
   "file_extension": ".py",
   "mimetype": "text/x-python",
   "name": "python",
   "nbconvert_exporter": "python",
   "pygments_lexer": "ipython3",
   "version": "3.12.9"
  }
 },
 "nbformat": 4,
 "nbformat_minor": 5
}
