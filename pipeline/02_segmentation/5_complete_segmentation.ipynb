{
 "cells": [
  {
   "cell_type": "code",
   "execution_count": 3,
   "id": "5039978f",
   "metadata": {},
   "outputs": [
    {
     "name": "stderr",
     "output_type": "stream",
     "text": [
      "model_type argument is not used in v4.0.1+. Ignoring this argument...\n"
     ]
    },
    {
     "name": "stdout",
     "output_type": "stream",
     "text": [
      "--- STARTING FINAL BATCH SEGMENTATION (DEBUG MODE) ---\n",
      "Attempting to work from base directory: /home/-Project-Group-B1\n",
      "Looking for processed data in: /home/-Project-Group-B1/data/processed\n",
      "\n",
      "Loading default 'nuclei' model...\n"
     ]
    },
    {
     "name": "stderr",
     "output_type": "stream",
     "text": [
      "channels deprecated in v4.0.1+. If data contain more than 3 channels, only the first 3 channels will be used\n"
     ]
    },
    {
     "name": "stdout",
     "output_type": "stream",
     "text": [
      "\n",
      "Checking for nucleus image directory: /home/-Project-Group-B1/data/processed/DMSO/CH0\n",
      "--> Directory found. Processing...\n"
     ]
    },
    {
     "name": "stderr",
     "output_type": "stream",
     "text": [
      "channels deprecated in v4.0.1+. If data contain more than 3 channels, only the first 3 channels will be used\n",
      "channels deprecated in v4.0.1+. If data contain more than 3 channels, only the first 3 channels will be used\n",
      "channels deprecated in v4.0.1+. If data contain more than 3 channels, only the first 3 channels will be used\n",
      "channels deprecated in v4.0.1+. If data contain more than 3 channels, only the first 3 channels will be used\n",
      "channels deprecated in v4.0.1+. If data contain more than 3 channels, only the first 3 channels will be used\n",
      "channels deprecated in v4.0.1+. If data contain more than 3 channels, only the first 3 channels will be used\n",
      "channels deprecated in v4.0.1+. If data contain more than 3 channels, only the first 3 channels will be used\n",
      "channels deprecated in v4.0.1+. If data contain more than 3 channels, only the first 3 channels will be used\n",
      "channels deprecated in v4.0.1+. If data contain more than 3 channels, only the first 3 channels will be used\n",
      "channels deprecated in v4.0.1+. If data contain more than 3 channels, only the first 3 channels will be used\n",
      "channels deprecated in v4.0.1+. If data contain more than 3 channels, only the first 3 channels will be used\n",
      "channels deprecated in v4.0.1+. If data contain more than 3 channels, only the first 3 channels will be used\n",
      "channels deprecated in v4.0.1+. If data contain more than 3 channels, only the first 3 channels will be used\n",
      "channels deprecated in v4.0.1+. If data contain more than 3 channels, only the first 3 channels will be used\n",
      "channels deprecated in v4.0.1+. If data contain more than 3 channels, only the first 3 channels will be used\n",
      "channels deprecated in v4.0.1+. If data contain more than 3 channels, only the first 3 channels will be used\n",
      "channels deprecated in v4.0.1+. If data contain more than 3 channels, only the first 3 channels will be used\n",
      "channels deprecated in v4.0.1+. If data contain more than 3 channels, only the first 3 channels will be used\n",
      "channels deprecated in v4.0.1+. If data contain more than 3 channels, only the first 3 channels will be used\n",
      "channels deprecated in v4.0.1+. If data contain more than 3 channels, only the first 3 channels will be used\n",
      "channels deprecated in v4.0.1+. If data contain more than 3 channels, only the first 3 channels will be used\n",
      "channels deprecated in v4.0.1+. If data contain more than 3 channels, only the first 3 channels will be used\n",
      "channels deprecated in v4.0.1+. If data contain more than 3 channels, only the first 3 channels will be used\n",
      "channels deprecated in v4.0.1+. If data contain more than 3 channels, only the first 3 channels will be used\n",
      "channels deprecated in v4.0.1+. If data contain more than 3 channels, only the first 3 channels will be used\n"
     ]
    },
    {
     "name": "stdout",
     "output_type": "stream",
     "text": [
      "\n",
      "Checking for nucleus image directory: /home/-Project-Group-B1/data/processed/JQ1/CH0\n",
      "--> Directory found. Processing...\n"
     ]
    },
    {
     "name": "stderr",
     "output_type": "stream",
     "text": [
      "channels deprecated in v4.0.1+. If data contain more than 3 channels, only the first 3 channels will be used\n",
      "channels deprecated in v4.0.1+. If data contain more than 3 channels, only the first 3 channels will be used\n",
      "channels deprecated in v4.0.1+. If data contain more than 3 channels, only the first 3 channels will be used\n",
      "channels deprecated in v4.0.1+. If data contain more than 3 channels, only the first 3 channels will be used\n",
      "channels deprecated in v4.0.1+. If data contain more than 3 channels, only the first 3 channels will be used\n",
      "channels deprecated in v4.0.1+. If data contain more than 3 channels, only the first 3 channels will be used\n",
      "channels deprecated in v4.0.1+. If data contain more than 3 channels, only the first 3 channels will be used\n",
      "channels deprecated in v4.0.1+. If data contain more than 3 channels, only the first 3 channels will be used\n",
      "channels deprecated in v4.0.1+. If data contain more than 3 channels, only the first 3 channels will be used\n",
      "channels deprecated in v4.0.1+. If data contain more than 3 channels, only the first 3 channels will be used\n",
      "channels deprecated in v4.0.1+. If data contain more than 3 channels, only the first 3 channels will be used\n",
      "channels deprecated in v4.0.1+. If data contain more than 3 channels, only the first 3 channels will be used\n",
      "channels deprecated in v4.0.1+. If data contain more than 3 channels, only the first 3 channels will be used\n",
      "channels deprecated in v4.0.1+. If data contain more than 3 channels, only the first 3 channels will be used\n",
      "channels deprecated in v4.0.1+. If data contain more than 3 channels, only the first 3 channels will be used\n",
      "channels deprecated in v4.0.1+. If data contain more than 3 channels, only the first 3 channels will be used\n",
      "channels deprecated in v4.0.1+. If data contain more than 3 channels, only the first 3 channels will be used\n",
      "channels deprecated in v4.0.1+. If data contain more than 3 channels, only the first 3 channels will be used\n",
      "channels deprecated in v4.0.1+. If data contain more than 3 channels, only the first 3 channels will be used\n",
      "channels deprecated in v4.0.1+. If data contain more than 3 channels, only the first 3 channels will be used\n",
      "channels deprecated in v4.0.1+. If data contain more than 3 channels, only the first 3 channels will be used\n",
      "channels deprecated in v4.0.1+. If data contain more than 3 channels, only the first 3 channels will be used\n",
      "channels deprecated in v4.0.1+. If data contain more than 3 channels, only the first 3 channels will be used\n",
      "channels deprecated in v4.0.1+. If data contain more than 3 channels, only the first 3 channels will be used\n",
      "channels deprecated in v4.0.1+. If data contain more than 3 channels, only the first 3 channels will be used\n"
     ]
    },
    {
     "name": "stdout",
     "output_type": "stream",
     "text": [
      "\n",
      "Checking for nucleus image directory: /home/-Project-Group-B1/data/processed/TSA/CH0\n",
      "--> Directory found. Processing...\n"
     ]
    },
    {
     "name": "stderr",
     "output_type": "stream",
     "text": [
      "channels deprecated in v4.0.1+. If data contain more than 3 channels, only the first 3 channels will be used\n",
      "channels deprecated in v4.0.1+. If data contain more than 3 channels, only the first 3 channels will be used\n",
      "channels deprecated in v4.0.1+. If data contain more than 3 channels, only the first 3 channels will be used\n",
      "channels deprecated in v4.0.1+. If data contain more than 3 channels, only the first 3 channels will be used\n",
      "channels deprecated in v4.0.1+. If data contain more than 3 channels, only the first 3 channels will be used\n",
      "channels deprecated in v4.0.1+. If data contain more than 3 channels, only the first 3 channels will be used\n",
      "channels deprecated in v4.0.1+. If data contain more than 3 channels, only the first 3 channels will be used\n",
      "channels deprecated in v4.0.1+. If data contain more than 3 channels, only the first 3 channels will be used\n",
      "channels deprecated in v4.0.1+. If data contain more than 3 channels, only the first 3 channels will be used\n",
      "channels deprecated in v4.0.1+. If data contain more than 3 channels, only the first 3 channels will be used\n",
      "channels deprecated in v4.0.1+. If data contain more than 3 channels, only the first 3 channels will be used\n",
      "channels deprecated in v4.0.1+. If data contain more than 3 channels, only the first 3 channels will be used\n",
      "channels deprecated in v4.0.1+. If data contain more than 3 channels, only the first 3 channels will be used\n",
      "channels deprecated in v4.0.1+. If data contain more than 3 channels, only the first 3 channels will be used\n",
      "channels deprecated in v4.0.1+. If data contain more than 3 channels, only the first 3 channels will be used\n",
      "channels deprecated in v4.0.1+. If data contain more than 3 channels, only the first 3 channels will be used\n",
      "channels deprecated in v4.0.1+. If data contain more than 3 channels, only the first 3 channels will be used\n",
      "channels deprecated in v4.0.1+. If data contain more than 3 channels, only the first 3 channels will be used\n",
      "channels deprecated in v4.0.1+. If data contain more than 3 channels, only the first 3 channels will be used\n",
      "channels deprecated in v4.0.1+. If data contain more than 3 channels, only the first 3 channels will be used\n",
      "channels deprecated in v4.0.1+. If data contain more than 3 channels, only the first 3 channels will be used\n",
      "channels deprecated in v4.0.1+. If data contain more than 3 channels, only the first 3 channels will be used\n",
      "channels deprecated in v4.0.1+. If data contain more than 3 channels, only the first 3 channels will be used\n",
      "channels deprecated in v4.0.1+. If data contain more than 3 channels, only the first 3 channels will be used\n"
     ]
    },
    {
     "name": "stdout",
     "output_type": "stream",
     "text": [
      "\n",
      "Loading custom cell model from: ../models/smfish_cell_model_cpsam\n",
      "\n",
      "Checking for cell image directory: /home/-Project-Group-B1/data/processed/DMSO/CH1\n",
      "--> Directory found. Processing...\n"
     ]
    },
    {
     "name": "stderr",
     "output_type": "stream",
     "text": [
      "channels deprecated in v4.0.1+. If data contain more than 3 channels, only the first 3 channels will be used\n",
      "channels deprecated in v4.0.1+. If data contain more than 3 channels, only the first 3 channels will be used\n",
      "channels deprecated in v4.0.1+. If data contain more than 3 channels, only the first 3 channels will be used\n",
      "channels deprecated in v4.0.1+. If data contain more than 3 channels, only the first 3 channels will be used\n",
      "channels deprecated in v4.0.1+. If data contain more than 3 channels, only the first 3 channels will be used\n",
      "channels deprecated in v4.0.1+. If data contain more than 3 channels, only the first 3 channels will be used\n",
      "channels deprecated in v4.0.1+. If data contain more than 3 channels, only the first 3 channels will be used\n",
      "channels deprecated in v4.0.1+. If data contain more than 3 channels, only the first 3 channels will be used\n",
      "channels deprecated in v4.0.1+. If data contain more than 3 channels, only the first 3 channels will be used\n",
      "channels deprecated in v4.0.1+. If data contain more than 3 channels, only the first 3 channels will be used\n",
      "channels deprecated in v4.0.1+. If data contain more than 3 channels, only the first 3 channels will be used\n",
      "channels deprecated in v4.0.1+. If data contain more than 3 channels, only the first 3 channels will be used\n",
      "channels deprecated in v4.0.1+. If data contain more than 3 channels, only the first 3 channels will be used\n",
      "channels deprecated in v4.0.1+. If data contain more than 3 channels, only the first 3 channels will be used\n",
      "channels deprecated in v4.0.1+. If data contain more than 3 channels, only the first 3 channels will be used\n",
      "channels deprecated in v4.0.1+. If data contain more than 3 channels, only the first 3 channels will be used\n",
      "channels deprecated in v4.0.1+. If data contain more than 3 channels, only the first 3 channels will be used\n",
      "channels deprecated in v4.0.1+. If data contain more than 3 channels, only the first 3 channels will be used\n",
      "channels deprecated in v4.0.1+. If data contain more than 3 channels, only the first 3 channels will be used\n",
      "channels deprecated in v4.0.1+. If data contain more than 3 channels, only the first 3 channels will be used\n",
      "channels deprecated in v4.0.1+. If data contain more than 3 channels, only the first 3 channels will be used\n",
      "channels deprecated in v4.0.1+. If data contain more than 3 channels, only the first 3 channels will be used\n",
      "channels deprecated in v4.0.1+. If data contain more than 3 channels, only the first 3 channels will be used\n",
      "channels deprecated in v4.0.1+. If data contain more than 3 channels, only the first 3 channels will be used\n",
      "channels deprecated in v4.0.1+. If data contain more than 3 channels, only the first 3 channels will be used\n"
     ]
    },
    {
     "name": "stdout",
     "output_type": "stream",
     "text": [
      "\n",
      "Checking for cell image directory: /home/-Project-Group-B1/data/processed/JQ1/CH1\n",
      "--> Directory found. Processing...\n"
     ]
    },
    {
     "name": "stderr",
     "output_type": "stream",
     "text": [
      "channels deprecated in v4.0.1+. If data contain more than 3 channels, only the first 3 channels will be used\n",
      "channels deprecated in v4.0.1+. If data contain more than 3 channels, only the first 3 channels will be used\n",
      "channels deprecated in v4.0.1+. If data contain more than 3 channels, only the first 3 channels will be used\n",
      "channels deprecated in v4.0.1+. If data contain more than 3 channels, only the first 3 channels will be used\n",
      "channels deprecated in v4.0.1+. If data contain more than 3 channels, only the first 3 channels will be used\n",
      "channels deprecated in v4.0.1+. If data contain more than 3 channels, only the first 3 channels will be used\n",
      "channels deprecated in v4.0.1+. If data contain more than 3 channels, only the first 3 channels will be used\n",
      "channels deprecated in v4.0.1+. If data contain more than 3 channels, only the first 3 channels will be used\n",
      "channels deprecated in v4.0.1+. If data contain more than 3 channels, only the first 3 channels will be used\n",
      "channels deprecated in v4.0.1+. If data contain more than 3 channels, only the first 3 channels will be used\n",
      "channels deprecated in v4.0.1+. If data contain more than 3 channels, only the first 3 channels will be used\n",
      "channels deprecated in v4.0.1+. If data contain more than 3 channels, only the first 3 channels will be used\n",
      "channels deprecated in v4.0.1+. If data contain more than 3 channels, only the first 3 channels will be used\n",
      "channels deprecated in v4.0.1+. If data contain more than 3 channels, only the first 3 channels will be used\n",
      "channels deprecated in v4.0.1+. If data contain more than 3 channels, only the first 3 channels will be used\n",
      "channels deprecated in v4.0.1+. If data contain more than 3 channels, only the first 3 channels will be used\n",
      "channels deprecated in v4.0.1+. If data contain more than 3 channels, only the first 3 channels will be used\n",
      "channels deprecated in v4.0.1+. If data contain more than 3 channels, only the first 3 channels will be used\n",
      "channels deprecated in v4.0.1+. If data contain more than 3 channels, only the first 3 channels will be used\n",
      "channels deprecated in v4.0.1+. If data contain more than 3 channels, only the first 3 channels will be used\n",
      "channels deprecated in v4.0.1+. If data contain more than 3 channels, only the first 3 channels will be used\n",
      "channels deprecated in v4.0.1+. If data contain more than 3 channels, only the first 3 channels will be used\n",
      "channels deprecated in v4.0.1+. If data contain more than 3 channels, only the first 3 channels will be used\n",
      "channels deprecated in v4.0.1+. If data contain more than 3 channels, only the first 3 channels will be used\n",
      "channels deprecated in v4.0.1+. If data contain more than 3 channels, only the first 3 channels will be used\n"
     ]
    },
    {
     "name": "stdout",
     "output_type": "stream",
     "text": [
      "\n",
      "Checking for cell image directory: /home/-Project-Group-B1/data/processed/TSA/CH1\n",
      "--> Directory found. Processing...\n"
     ]
    },
    {
     "name": "stderr",
     "output_type": "stream",
     "text": [
      "channels deprecated in v4.0.1+. If data contain more than 3 channels, only the first 3 channels will be used\n",
      "channels deprecated in v4.0.1+. If data contain more than 3 channels, only the first 3 channels will be used\n",
      "channels deprecated in v4.0.1+. If data contain more than 3 channels, only the first 3 channels will be used\n",
      "channels deprecated in v4.0.1+. If data contain more than 3 channels, only the first 3 channels will be used\n",
      "channels deprecated in v4.0.1+. If data contain more than 3 channels, only the first 3 channels will be used\n",
      "channels deprecated in v4.0.1+. If data contain more than 3 channels, only the first 3 channels will be used\n",
      "channels deprecated in v4.0.1+. If data contain more than 3 channels, only the first 3 channels will be used\n",
      "channels deprecated in v4.0.1+. If data contain more than 3 channels, only the first 3 channels will be used\n",
      "channels deprecated in v4.0.1+. If data contain more than 3 channels, only the first 3 channels will be used\n",
      "channels deprecated in v4.0.1+. If data contain more than 3 channels, only the first 3 channels will be used\n",
      "channels deprecated in v4.0.1+. If data contain more than 3 channels, only the first 3 channels will be used\n",
      "channels deprecated in v4.0.1+. If data contain more than 3 channels, only the first 3 channels will be used\n",
      "channels deprecated in v4.0.1+. If data contain more than 3 channels, only the first 3 channels will be used\n",
      "channels deprecated in v4.0.1+. If data contain more than 3 channels, only the first 3 channels will be used\n",
      "channels deprecated in v4.0.1+. If data contain more than 3 channels, only the first 3 channels will be used\n",
      "channels deprecated in v4.0.1+. If data contain more than 3 channels, only the first 3 channels will be used\n",
      "channels deprecated in v4.0.1+. If data contain more than 3 channels, only the first 3 channels will be used\n",
      "channels deprecated in v4.0.1+. If data contain more than 3 channels, only the first 3 channels will be used\n",
      "channels deprecated in v4.0.1+. If data contain more than 3 channels, only the first 3 channels will be used\n",
      "channels deprecated in v4.0.1+. If data contain more than 3 channels, only the first 3 channels will be used\n",
      "channels deprecated in v4.0.1+. If data contain more than 3 channels, only the first 3 channels will be used\n",
      "channels deprecated in v4.0.1+. If data contain more than 3 channels, only the first 3 channels will be used\n",
      "channels deprecated in v4.0.1+. If data contain more than 3 channels, only the first 3 channels will be used\n",
      "channels deprecated in v4.0.1+. If data contain more than 3 channels, only the first 3 channels will be used\n",
      "channels deprecated in v4.0.1+. If data contain more than 3 channels, only the first 3 channels will be used\n"
     ]
    },
    {
     "name": "stdout",
     "output_type": "stream",
     "text": [
      "\n",
      "--- SCRIPT FINISHED ---\n"
     ]
    }
   ],
   "source": [
    "import os\n",
    "import numpy as np\n",
    "import tifffile\n",
    "import bm3d\n",
    "from skimage.util import img_as_float\n",
    "from skimage.restoration import estimate_sigma\n",
    "from cellpose import models\n",
    "\n",
    "BASE_DIR = \"..\"\n",
    "PROCESSED_DIR = os.path.join(BASE_DIR, \"data\", \"processed\")\n",
    "FINAL_MASKS_DIR = os.path.join(BASE_DIR, \"data\", \"final_masks\")\n",
    "MODELS_DIR = os.path.join(BASE_DIR, \"models\")\n",
    "CONDITIONS = [\"DMSO\", \"JQ1\", \"TSA\"]\n",
    "\n",
    "NUCLEUS_MODEL_TYPE = 'nuclei'\n",
    "CELL_MODEL_PATH = os.path.join(MODELS_DIR, \"smfish_cell_model_cpsam\")\n",
    "\n",
    "DENOISING_STRENGTH_FACTOR = 100.0\n",
    "\n",
    "os.makedirs(FINAL_MASKS_DIR, exist_ok=True)\n",
    "\n",
    "print(\"--- STARTING FINAL BATCH SEGMENTATION (DEBUG MODE) ---\")\n",
    "print(f\"Attempting to work from base directory: {os.path.abspath(BASE_DIR)}\")\n",
    "print(f\"Looking for processed data in: {os.path.abspath(PROCESSED_DIR)}\")\n",
    "\n",
    "print(f\"\\nLoading default '{NUCLEUS_MODEL_TYPE}' model...\")\n",
    "nucleus_model = models.CellposeModel(gpu=True, model_type=NUCLEUS_MODEL_TYPE)\n",
    "\n",
    "for condition in CONDITIONS:\n",
    "    input_dir = os.path.join(PROCESSED_DIR, condition, \"CH0\")\n",
    "    print(f\"\\nChecking for nucleus image directory: {os.path.abspath(input_dir)}\")\n",
    "\n",
    "    if not os.path.isdir(input_dir):\n",
    "        print(\"--> Directory NOT found. Skipping.\")\n",
    "        continue\n",
    "    \n",
    "    print(\"--> Directory found. Processing...\")\n",
    "    output_dir = os.path.join(FINAL_MASKS_DIR, condition, \"CH0_masks\")\n",
    "    os.makedirs(output_dir, exist_ok=True)\n",
    "    \n",
    "    image_files = sorted([f for f in os.listdir(input_dir) if f.endswith('.tif')])\n",
    "    for filename in image_files:\n",
    "        try:\n",
    "            img = tifffile.imread(os.path.join(input_dir, filename))\n",
    "            masks, _, _ = nucleus_model.eval(img, channels=[0,0], diameter=None)\n",
    "            tifffile.imwrite(os.path.join(output_dir, filename), masks.astype(np.uint16))\n",
    "        except Exception as e:\n",
    "            print(f\"  - FAILED to process {filename}: {e}\")\n",
    "\n",
    "print(f\"\\nLoading custom cell model from: {CELL_MODEL_PATH}\")\n",
    "cell_model = models.CellposeModel(gpu=True, pretrained_model=CELL_MODEL_PATH)\n",
    "\n",
    "for condition in CONDITIONS:\n",
    "    input_dir = os.path.join(PROCESSED_DIR, condition, \"CH1\")\n",
    "    print(f\"\\nChecking for cell image directory: {os.path.abspath(input_dir)}\")\n",
    "    \n",
    "    if not os.path.isdir(input_dir):\n",
    "        print(\"--> Directory NOT found. Skipping.\")\n",
    "        continue\n",
    "        \n",
    "    print(\"--> Directory found. Processing...\")\n",
    "    output_dir = os.path.join(FINAL_MASKS_DIR, condition, \"CH1_masks\")\n",
    "    os.makedirs(output_dir, exist_ok=True)\n",
    "\n",
    "    image_files = sorted([f for f in os.listdir(input_dir) if f.endswith('.tif')])\n",
    "    for filename in image_files:\n",
    "        try:\n",
    "            original_noisy_img = tifffile.imread(os.path.join(input_dir, filename))\n",
    "            \n",
    "            noisy_image_float = img_as_float(original_noisy_img)\n",
    "            noise_sigma_est = np.mean(estimate_sigma(noisy_image_float, channel_axis=None))\n",
    "            manual_sigma_psd = noise_sigma_est * DENOISING_STRENGTH_FACTOR\n",
    "            denoised_image = bm3d.bm3d(noisy_image_float, sigma_psd=manual_sigma_psd)\n",
    "            \n",
    "            masks, _, _ = cell_model.eval(denoised_image, channels=[0,0], diameter=None)\n",
    "            tifffile.imwrite(os.path.join(output_dir, filename), masks.astype(np.uint16))\n",
    "        except Exception as e:\n",
    "            print(f\"  - FAILED to process {filename}: {e}\")\n",
    "            \n",
    "print(\"\\n--- SCRIPT FINISHED ---\")"
   ]
  }
 ],
 "metadata": {
  "kernelspec": {
   "display_name": "base",
   "language": "python",
   "name": "python3"
  },
  "language_info": {
   "codemirror_mode": {
    "name": "ipython",
    "version": 3
   },
   "file_extension": ".py",
   "mimetype": "text/x-python",
   "name": "python",
   "nbconvert_exporter": "python",
   "pygments_lexer": "ipython3",
   "version": "3.12.9"
  }
 },
 "nbformat": 4,
 "nbformat_minor": 5
}
