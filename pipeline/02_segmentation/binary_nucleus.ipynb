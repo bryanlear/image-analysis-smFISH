{
 "cells": [
  {
   "cell_type": "code",
   "execution_count": 1,
   "id": "5be04243",
   "metadata": {},
   "outputs": [
    {
     "name": "stdout",
     "output_type": "stream",
     "text": [
      "Creating binary images for 32 nucleus training files...\n",
      "  - Created binary image for: MCF7_AREG_DMSO_006_ch0_projection.tif\n",
      "  - Created binary image for: MCF7_AREG_DMSO_006_ch0_projection_flows.tif\n",
      "  - Created binary image for: MCF7_AREG_DMSO_007_ch0_projection.tif\n",
      "  - Created binary image for: MCF7_AREG_DMSO_007_ch0_projection_flows.tif\n",
      "  - Created binary image for: MCF7_AREG_DMSO_009_ch0_projection.tif\n",
      "  - Created binary image for: MCF7_AREG_DMSO_009_ch0_projection_flows.tif\n",
      "  - Created binary image for: MCF7_AREG_DMSO_011_ch0_projection.tif\n",
      "  - Created binary image for: MCF7_AREG_DMSO_011_ch0_projection_flows.tif\n",
      "  - Created binary image for: MCF7_AREG_DMSO_012_ch0_projection.tif\n",
      "  - Created binary image for: MCF7_AREG_DMSO_012_ch0_projection_flows.tif\n",
      "  - Created binary image for: MCF7_AREG_DMSO_020_ch0_projection.tif\n",
      "  - Created binary image for: MCF7_AREG_DMSO_020_ch0_projection_flows.tif\n",
      "  - Created binary image for: MCF7_AREG_JQ1_304_ch0_projection.tif\n",
      "  - Created binary image for: MCF7_AREG_JQ1_304_ch0_projection_flows.tif\n",
      "  - Created binary image for: MCF7_AREG_JQ1_305_ch0_projection.tif\n",
      "  - Created binary image for: MCF7_AREG_JQ1_305_ch0_projection_flows.tif\n",
      "  - Created binary image for: MCF7_AREG_JQ1_309_ch0_projection.tif\n",
      "  - Created binary image for: MCF7_AREG_JQ1_309_ch0_projection_flows.tif\n",
      "  - Created binary image for: MCF7_AREG_JQ1_314_ch0_projection.tif\n",
      "  - Created binary image for: MCF7_AREG_JQ1_314_ch0_projection_flows.tif\n",
      "  - Created binary image for: MCF7_AREG_JQ1_319_ch0_projection.tif\n",
      "  - Created binary image for: MCF7_AREG_JQ1_319_ch0_projection_flows.tif\n",
      "  - Created binary image for: MCF7_AREG_TSA_607_ch0_projection.tif\n",
      "  - Created binary image for: MCF7_AREG_TSA_607_ch0_projection_flows.tif\n",
      "  - Created binary image for: MCF7_AREG_TSA_610_ch0_projection.tif\n",
      "  - Created binary image for: MCF7_AREG_TSA_610_ch0_projection_flows.tif\n",
      "  - Created binary image for: MCF7_AREG_TSA_613_ch0_projection.tif\n",
      "  - Created binary image for: MCF7_AREG_TSA_613_ch0_projection_flows.tif\n",
      "  - Created binary image for: MCF7_AREG_TSA_614_ch0_projection.tif\n",
      "  - Created binary image for: MCF7_AREG_TSA_614_ch0_projection_flows.tif\n",
      "  - Created binary image for: MCF7_AREG_TSA_615_ch0_projection.tif\n",
      "  - Created binary image for: MCF7_AREG_TSA_615_ch0_projection_flows.tif\n",
      "\n",
      "Binary nucleus training images created successfully.\n"
     ]
    }
   ],
   "source": [
    "import os\n",
    "import numpy as np\n",
    "import tifffile\n",
    "from skimage import filters\n",
    "from scipy.ndimage import binary_fill_holes\n",
    "\n",
    "BASE_DIR = \"..\"\n",
    "NUC_IMG_DIR = os.path.join(BASE_DIR, \"data\", \"training\", \"images\", \"nucleus\")\n",
    "BINARY_NUC_DIR = os.path.join(BASE_DIR, \"data\", \"training\", \"images\", \"nucleus_binary\")\n",
    "\n",
    "os.makedirs(BINARY_NUC_DIR, exist_ok=True)\n",
    "\n",
    "image_files = sorted([f for f in os.listdir(NUC_IMG_DIR) if f.endswith('.tif')])\n",
    "print(f\"Creating binary images for {len(image_files)} nucleus training files...\")\n",
    "\n",
    "for filename in image_files:\n",
    "    try:\n",
    "        img_path = os.path.join(NUC_IMG_DIR, filename)\n",
    "        img = tifffile.imread(img_path)\n",
    "\n",
    "        # Otsu's threshold\n",
    "        threshold_value = filters.threshold_otsu(img)\n",
    "        binary_image = img > threshold_value\n",
    "        \n",
    "        # Fill them holes inside\n",
    "        filled_image = binary_fill_holes(binary_image)\n",
    "        \n",
    "        output_path = os.path.join(BINARY_NUC_DIR, filename)\n",
    "        tifffile.imwrite(output_path, filled_image.astype(np.uint8) * 255)\n",
    "        \n",
    "        print(f\"  - Created binary image for: {filename}\")\n",
    "\n",
    "    except Exception as e:\n",
    "        print(f\"  - FAILED to process {filename}: {e}\")\n",
    "\n",
    "print(\"\\nBinary nucleus training images created successfully.\")"
   ]
  }
 ],
 "metadata": {
  "kernelspec": {
   "display_name": "base",
   "language": "python",
   "name": "python3"
  },
  "language_info": {
   "codemirror_mode": {
    "name": "ipython",
    "version": 3
   },
   "file_extension": ".py",
   "mimetype": "text/x-python",
   "name": "python",
   "nbconvert_exporter": "python",
   "pygments_lexer": "ipython3",
   "version": "3.12.9"
  }
 },
 "nbformat": 4,
 "nbformat_minor": 5
}
