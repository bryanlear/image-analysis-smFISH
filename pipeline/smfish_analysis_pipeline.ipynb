{
 "cells": [
  {
   "cell_type": "markdown",
   "id": "main-title",
   "metadata": {},
   "source": [
    "# smFISH Analysis Pipeline\n",
    "\n",
    "This notebook demonstrates the complete pipeline for quantitative analysis of single-molecule FISH (smFISH) images.\n",
    "\n",
    "## Pipeline Overview\n",
    "\n",
    "The pipeline consists of the following main stages:\n",
    "\n",
    "1. **Data Preprocessing** - Convert 3D TIFF stacks to 2D projections and denoise images\n",
    "2. **Segmentation** - Segment cells and nuclei using Cellpose models\n",
    "3. **Model Training** - Fine-tune models for better performance on smFISH data\n",
    "4. **Validation** - Validate model performance on training data\n",
    "5. **Analysis** - Detect and count mRNA spots, perform statistical analysis\n",
    "6. **Utilities** - Generate visualizations and compile results\n",
    "\n",
    "## Project Structure\n",
    "\n",
    "```\n",
    "pipeline/\n",
    "├── 01_preprocessing/          # Data preprocessing and denoising\n",
    "├── 02_segmentation/           # Cell and nucleus segmentation\n",
    "├── 03_training/               # Model training and fine-tuning\n",
    "├── 04_validation/             # Model validation\n",
    "├── 05_analysis/               # Spot detection and statistical analysis\n",
    "├── 06_utilities/              # Visualization and utility functions\n",
    "└── results/                   # Output data and visualizations\n",
    "```\n"
   ]
  },
  {
   "cell_type": "markdown",
   "id": "setup",
   "metadata": {},
   "source": [
    "## Setup and Configuration\n",
    "\n",
    "First, let's set up the environment and define paths."
   ]
  },
  {
   "cell_type": "code",
   "execution_count": null,
   "id": "setup-code",
   "metadata": {},
   "outputs": [],
   "source": [
    "import os\n",
    "import sys\n",
    "import warnings\n",
    "warnings.filterwarnings('ignore')\n",
    "\n",
    "# Define project paths\n",
    "PROJECT_ROOT = os.path.abspath('..')\n",
    "PIPELINE_ROOT = os.path.dirname(os.path.abspath('.'))\n",
    "DATA_PATH = os.path.join(PROJECT_ROOT, 'data')\n",
    "RESULTS_PATH = os.path.join(PIPELINE_ROOT, 'results')\n",
    "\n",
    "print(f\"Project Root: {PROJECT_ROOT}\")\n",
    "print(f\"Pipeline Root: {PIPELINE_ROOT}\")\n",
    "print(f\"Data Path: {DATA_PATH}\")\n",
    "print(f\"Results Path: {RESULTS_PATH}\")\n",
    "\n",
    "# Add pipeline directories to Python path for imports\n",
    "sys.path.append(PIPELINE_ROOT)"
   ]
  },
  {
   "cell_type": "markdown",
   "id": "stage1",
   "metadata": {},
   "source": [
    "## Stage 1: Data Preprocessing\n",
    "\n",
    "Convert 3D TIFF stacks to 2D maximum intensity projections and apply denoising."
   ]
  },
  {
   "cell_type": "code",
   "execution_count": null,
   "id": "preprocessing",
   "metadata": {},
   "outputs": [],
   "source": [
    "print(\"=== STAGE 1: DATA PREPROCESSING ===\")\n",
    "print(\"\\n1.1 Converting 3D TIFF stacks to 2D projections...\")\n",
    "%run 01_preprocessing/1_data_preprocessing.ipynb\n",
    "\n",
    "print(\"\\n1.2 Applying BM3D denoising to smFISH images...\")\n",
    "%run 01_preprocessing/denoising_fish.ipynb\n",
    "\n",
    "print(\"\\n1.3 Preparing data for model training...\")\n",
    "%run 01_preprocessing/preprocess_for_training.ipynb\n",
    "\n",
    "print(\"\\n✓ Preprocessing complete!\")"
   ]
  },
  {
   "cell_type": "markdown",
   "id": "stage2",
   "metadata": {},
   "source": [
    "## Stage 2: Segmentation\n",
    "\n",
    "Perform initial segmentation using pre-trained Cellpose models."
   ]
  },
  {
   "cell_type": "code",
   "execution_count": null,
   "id": "segmentation",
   "metadata": {},
   "outputs": [],
   "source": [
    "print(\"=== STAGE 2: SEGMENTATION ===\")\n",
    "print(\"\\n2.1 Initial segmentation with pre-trained models...\")\n",
    "%run 02_segmentation/2_segmentation.ipynb\n",
    "\n",
    "print(\"\\n2.2 Binary nucleus segmentation...\")\n",
    "%run 02_segmentation/binary_nucleus.ipynb\n",
    "\n",
    "print(\"\\n✓ Initial segmentation complete!\")"
   ]
  },
  {
   "cell_type": "markdown",
   "id": "stage3",
   "metadata": {},
   "source": [
    "## Stage 3: Model Training\n",
    "\n",
    "Fine-tune Cellpose models for better performance on smFISH data."
   ]
  },
  {
   "cell_type": "code",
   "execution_count": null,
   "id": "training",
   "metadata": {},
   "outputs": [],
   "source": [
    "print(\"=== STAGE 3: MODEL TRAINING ===\")\n",
    "print(\"\\n3.1 Fine-tuning cpsam model on denoised smFISH images...\")\n",
    "%run 03_training/3_model_training.ipynb\n",
    "\n",
    "print(\"\\n✓ Model training complete!\")"
   ]
  },
  {
   "cell_type": "markdown",
   "id": "stage4",
   "metadata": {},
   "source": [
    "## Stage 4: Model Validation\n",
    "\n",
    "Validate the performance of trained models on the training dataset."
   ]
  },
  {
   "cell_type": "code",
   "execution_count": null,
   "id": "validation",
   "metadata": {},
   "outputs": [],
   "source": [
    "print(\"=== STAGE 4: MODEL VALIDATION ===\")\n",
    "print(\"\\n4.1 Validating smFISH segmentation model...\")\n",
    "%run 04_validation/4_1_validation_smfish.ipynb\n",
    "\n",
    "print(\"\\n4.2 Validating nucleus segmentation model...\")\n",
    "%run 04_validation/4_2_validation_nucleus.ipynb\n",
    "\n",
    "print(\"\\n✓ Model validation complete!\")"
   ]
  },
  {
   "cell_type": "markdown",
   "id": "stage5",
   "metadata": {},
   "source": [
    "## Stage 5: Complete Segmentation and Analysis\n",
    "\n",
    "Apply trained models to the complete dataset and perform quantitative analysis."
   ]
  },
  {
   "cell_type": "code",
   "execution_count": null,
   "id": "complete-analysis",
   "metadata": {},
   "outputs": [],
   "source": [
    "print(\"=== STAGE 5: COMPLETE SEGMENTATION AND ANALYSIS ===\")\n",
    "print(\"\\n5.1 Applying trained models to complete dataset...\")\n",
    "%run 02_segmentation/5_complete_segmentation.ipynb\n",
    "\n",
    "print(\"\\n5.2 Detecting and counting mRNA spots...\")\n",
    "%run 05_analysis/8_blob_detection.ipynb\n",
    "\n",
    "print(\"\\n5.3 Performing statistical analysis...\")\n",
    "%run 05_analysis/9_stats.ipynb\n",
    "\n",
    "print(\"\\n✓ Analysis complete!\")"
   ]
  },
  {
   "cell_type": "markdown",
   "id": "stage6",
   "metadata": {},
   "source": [
    "## Stage 6: Visualization and Results\n",
    "\n",
    "Generate visualizations and compile final results."
   ]
  },
  {
   "cell_type": "code",
   "execution_count": null,
   "id": "visualization",
   "metadata": {},
   "outputs": [],
   "source": [
    "print(\"=== STAGE 6: VISUALIZATION AND RESULTS ===\")\n",
    "print(\"\\n6.1 Generating segmentation outlines...\")\n",
    "%run 06_utilities/6_generate_outlines.ipynb\n",
    "\n",
    "print(\"\\n6.2 Compiling animation frames (Part 1)...\")\n",
    "%run 06_utilities/7_1_frame_compiler.ipynb\n",
    "\n",
    "print(\"\\n6.3 Compiling animation frames (Part 2)...\")\n",
    "%run 06_utilities/7_2_frame_compiler.ipynb\n",
    "\n",
    "print(\"\\n✓ Visualization complete!\")"
   ]
  },
  {
   "cell_type": "markdown",
   "id": "summary",
   "metadata": {},
   "source": [
    "## Pipeline Summary\n",
    "\n",
    "The complete smFISH analysis pipeline has been executed successfully!\n",
    "\n",
    "### Key Results:\n",
    "- **Data Processing**: 3D TIFF stacks converted to 2D projections with BM3D denoising\n",
    "- **Model Training**: Fine-tuned cpsam model for smFISH segmentation\n",
    "- **Segmentation**: Accurate cell and nucleus segmentation across all conditions\n",
    "- **Quantification**: mRNA spot counts for DMSO, JQ1, and TSA conditions\n",
    "- **Statistical Analysis**: Dunn's post-hoc test results showing significant differences\n",
    "\n",
    "### Output Files:\n",
    "- Segmentation masks and outlines\n",
    "- Quantification results in `results/tables/`\n",
    "- Visualization plots and animations in `results/plots/`\n",
    "\n",
    "### Next Steps:\n",
    "- Review results in the `results/` directory\n",
    "- Examine individual notebook outputs for detailed analysis\n",
    "- Modify parameters in individual notebooks as needed for your specific dataset\n"
   ]
  }
 ],
 "metadata": {
  "kernelspec": {
   "display_name": "Python 3",
   "language": "python",
   "name": "python3"
  },
  "language_info": {
   "codemirror_mode": {
    "name": "ipython",
    "version": 3
   },
   "file_extension": ".py",
   "mimetype": "text/x-python",
   "name": "python",
   "nbconvert_exporter": "python",
   "pygments_lexer": "ipython3",
   "version": "3.8.5"
  }
 },
 "nbformat": 4,
 "nbformat_minor": 5
}
