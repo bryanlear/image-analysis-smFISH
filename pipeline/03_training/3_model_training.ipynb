{
 "cells": [
  {
   "cell_type": "code",
   "execution_count": 4,
   "id": "f54b8c9d",
   "metadata": {},
   "outputs": [
    {
     "name": "stderr",
     "output_type": "stream",
     "text": [
      "model_type argument is not used in v4.0.1+. Ignoring this argument...\n"
     ]
    },
    {
     "name": "stdout",
     "output_type": "stream",
     "text": [
      "\n",
      "--- FINE-TUNING 'cpsam' MODEL ON DENOISED IMAGES ---\n",
      "Finding and matching training image-label pairs...\n",
      "Found 16 matched image-label pairs for training.\n",
      "\n",
      "Training nucleus_cell_model_cpsam_v3...\n"
     ]
    },
    {
     "name": "stderr",
     "output_type": "stream",
     "text": [
      "100%|██████████| 16/16 [00:00<00:00, 4096.25it/s]\n",
      "100%|██████████| 16/16 [00:00<00:00, 4284.82it/s]\n",
      "100%|██████████| 16/16 [00:01<00:00, 13.26it/s]\n",
      "100%|██████████| 16/16 [00:00<00:00, 2326.45it/s]\n"
     ]
    },
    {
     "name": "stdout",
     "output_type": "stream",
     "text": [
      "--- 'cpsam' model fine-tuning complete. ---\n"
     ]
    }
   ],
   "source": [
    "import os\n",
    "import numpy as np\n",
    "import tifffile\n",
    "from cellpose import train, models\n",
    "\n",
    "BASE_DIR = \"..\"\n",
    "TRAINING_DIR = os.path.join(BASE_DIR, \"data\", \"training\")\n",
    "MODELS_DIR = os.path.join(BASE_DIR, \"models\")\n",
    "\n",
    "os.makedirs(MODELS_DIR, exist_ok=True)\n",
    "\n",
    "print(\"\\n--- FINE-TUNING 'cpsam' MODEL ON DENOISED IMAGES ---\")\n",
    "img_dir = os.path.join(TRAINING_DIR, \"images\", \"nucleus_binary\")\n",
    "lbl_dir = os.path.join(TRAINING_DIR, \"labels\", \"nucleus\")\n",
    "\n",
    "train_files = []\n",
    "train_labels_files = []\n",
    "\n",
    "print(\"Finding and matching training image-label pairs...\")\n",
    "potential_image_files = sorted([f for f in os.listdir(img_dir) if f.endswith('_projection.tif')])\n",
    "\n",
    "for filename in potential_image_files:\n",
    "    label_path = os.path.join(lbl_dir, filename)\n",
    "    if os.path.exists(label_path):\n",
    "        train_files.append(os.path.join(img_dir, filename))\n",
    "        train_labels_files.append(label_path)\n",
    "    else:\n",
    "        print(f\"Warning: Found image '{filename}' but no corresponding label. Skipping.\")\n",
    "\n",
    "if not train_files:\n",
    "    print(\"ERROR: Could not find any matched image-label pairs. Please check your training folders.\")\n",
    "else:\n",
    "    print(f\"Found {len(train_files)} matched image-label pairs for training.\")\n",
    "\n",
    "    model = models.CellposeModel(gpu=True, model_type='cyto2')\n",
    "    model_name = \"nucleus_cell_model_cpsam_v3\"\n",
    "\n",
    "    print(f\"\\nTraining {model_name}...\")\n",
    "    train.train_seg(\n",
    "        model.net,\n",
    "        train_files=train_files,\n",
    "        train_labels_files=train_labels_files,\n",
    "        save_path=MODELS_DIR,\n",
    "        model_name=model_name,\n",
    "        n_epochs=400,\n",
    "        learning_rate=0.005,\n",
    "        batch_size=4,\n",
    "        weight_decay=0.0001,\n",
    "        min_train_masks=1\n",
    "    )\n",
    "    print(f\"--- 'cpsam' model fine-tuning complete. ---\")"
   ]
  },
  {
   "cell_type": "code",
   "execution_count": null,
   "id": "253a1a2b",
   "metadata": {},
   "outputs": [],
   "source": []
  }
 ],
 "metadata": {
  "kernelspec": {
   "display_name": "base",
   "language": "python",
   "name": "python3"
  },
  "language_info": {
   "codemirror_mode": {
    "name": "ipython",
    "version": 3
   },
   "file_extension": ".py",
   "mimetype": "text/x-python",
   "name": "python",
   "nbconvert_exporter": "python",
   "pygments_lexer": "ipython3",
   "version": "3.12.9"
  }
 },
 "nbformat": 4,
 "nbformat_minor": 5
}
