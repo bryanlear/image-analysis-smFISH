{
 "cells": [
  {
   "cell_type": "code",
   "execution_count": 1,
   "id": "bdc2cfb8",
   "metadata": {},
   "outputs": [
    {
     "name": "stdout",
     "output_type": "stream",
     "text": [
      "Starting batch denoising for 16 images...\n",
      "  - Saved denoised image: MCF7_AREG_DMSO_001_ch1_projection.tif\n",
      "  - Saved denoised image: MCF7_AREG_DMSO_006_ch1_projection.tif\n",
      "  - Saved denoised image: MCF7_AREG_DMSO_008_ch1_projection.tif\n",
      "  - Saved denoised image: MCF7_AREG_DMSO_011_ch1_projection.tif\n",
      "  - Saved denoised image: MCF7_AREG_DMSO_022_ch1_projection.tif\n",
      "  - Saved denoised image: MCF7_AREG_DMSO_025_ch1_projection.tif\n",
      "  - Saved denoised image: MCF7_AREG_JQ1_302_ch1_projection.tif\n",
      "  - Saved denoised image: MCF7_AREG_JQ1_316_ch1_projection.tif\n",
      "  - Saved denoised image: MCF7_AREG_JQ1_317_ch1_projection.tif\n",
      "  - Saved denoised image: MCF7_AREG_JQ1_318_ch1_projection.tif\n",
      "  - Saved denoised image: MCF7_AREG_JQ1_325_ch1_projection.tif\n",
      "  - Saved denoised image: MCF7_AREG_TSA_603_ch1_projection.tif\n",
      "  - Saved denoised image: MCF7_AREG_TSA_611_ch1_projection.tif\n",
      "  - Saved denoised image: MCF7_AREG_TSA_618_ch1_projection.tif\n",
      "  - Saved denoised image: MCF7_AREG_TSA_620_ch1_projection.tif\n",
      "  - Saved denoised image: MCF7_AREG_TSA_625_ch1_projection.tif\n",
      "\n",
      "Batch denoising complete.\n"
     ]
    }
   ],
   "source": [
    "import os\n",
    "import numpy as np\n",
    "import tifffile\n",
    "import bm3d\n",
    "from skimage.util import img_as_float\n",
    "from skimage.restoration import estimate_sigma\n",
    "\n",
    "BASE_DIR = \"..\"\n",
    "FISH_IMAGE_DIR = os.path.join(BASE_DIR, \"data\", \"training\", \"images\", \"fish\")\n",
    "DENOISED_DIR = os.path.join(BASE_DIR, \"data\", \"training\", \"images\", \"fish_denoised\")\n",
    "\n",
    "os.makedirs(DENOISED_DIR, exist_ok=True)\n",
    "\n",
    "DENOISING_STRENGTH_FACTOR = 100.0\n",
    "\n",
    "image_files = sorted([f for f in os.listdir(FISH_IMAGE_DIR) if f.endswith('_projection.tif')])\n",
    "print(f\"Starting batch denoising for {len(image_files)} images...\")\n",
    "\n",
    "for filename in image_files:\n",
    "    try:\n",
    "        noisy_image_uint16 = tifffile.imread(os.path.join(FISH_IMAGE_DIR, filename))\n",
    "        noisy_image_float = img_as_float(noisy_image_uint16)\n",
    "        \n",
    "        noise_sigma_est = np.mean(estimate_sigma(noisy_image_float, channel_axis=None))\n",
    "        manual_sigma_psd = noise_sigma_est * DENOISING_STRENGTH_FACTOR\n",
    "\n",
    "        denoised_image = bm3d.bm3d(noisy_image_float, sigma_psd=manual_sigma_psd)\n",
    "        \n",
    "        denoised_image_uint16 = (denoised_image * 65535).astype(np.uint16)\n",
    "\n",
    "        output_path = os.path.join(DENOISED_DIR, filename)\n",
    "        tifffile.imwrite(output_path, denoised_image_uint16)\n",
    "        print(f\"  - Saved denoised image: {filename}\")\n",
    "        \n",
    "    except Exception as e:\n",
    "        print(f\"  - FAILED to process {filename}: {e}\")\n",
    "\n",
    "print(\"\\nBatch denoising complete.\")"
   ]
  }
 ],
 "metadata": {
  "kernelspec": {
   "display_name": "base",
   "language": "python",
   "name": "python3"
  },
  "language_info": {
   "codemirror_mode": {
    "name": "ipython",
    "version": 3
   },
   "file_extension": ".py",
   "mimetype": "text/x-python",
   "name": "python",
   "nbconvert_exporter": "python",
   "pygments_lexer": "ipython3",
   "version": "3.12.9"
  }
 },
 "nbformat": 4,
 "nbformat_minor": 5
}
