{
 "cells": [
  {
   "cell_type": "code",
   "execution_count": 1,
   "id": "ee2430b4",
   "metadata": {},
   "outputs": [
    {
     "name": "stdout",
     "output_type": "stream",
     "text": [
      "Creating enhanced images for 16 training files...\n",
      "  - Created enhanced image for: MCF7_AREG_DMSO_001_ch1_projection.tif\n",
      "  - Created enhanced image for: MCF7_AREG_DMSO_006_ch1_projection.tif\n",
      "  - Created enhanced image for: MCF7_AREG_DMSO_008_ch1_projection.tif\n",
      "  - Created enhanced image for: MCF7_AREG_DMSO_011_ch1_projection.tif\n",
      "  - Created enhanced image for: MCF7_AREG_DMSO_022_ch1_projection.tif\n",
      "  - Created enhanced image for: MCF7_AREG_DMSO_025_ch1_projection.tif\n",
      "  - Created enhanced image for: MCF7_AREG_JQ1_302_ch1_projection.tif\n",
      "  - Created enhanced image for: MCF7_AREG_JQ1_316_ch1_projection.tif\n",
      "  - Created enhanced image for: MCF7_AREG_JQ1_317_ch1_projection.tif\n",
      "  - Created enhanced image for: MCF7_AREG_JQ1_318_ch1_projection.tif\n",
      "  - Created enhanced image for: MCF7_AREG_JQ1_325_ch1_projection.tif\n",
      "  - Created enhanced image for: MCF7_AREG_TSA_603_ch1_projection.tif\n",
      "  - Created enhanced image for: MCF7_AREG_TSA_611_ch1_projection.tif\n",
      "  - Created enhanced image for: MCF7_AREG_TSA_618_ch1_projection.tif\n",
      "  - Created enhanced image for: MCF7_AREG_TSA_620_ch1_projection.tif\n",
      "  - Created enhanced image for: MCF7_AREG_TSA_625_ch1_projection.tif\n",
      "\n",
      "Enhanced training images created successfully.\n"
     ]
    }
   ],
   "source": [
    "import os\n",
    "import numpy as np\n",
    "import tifffile\n",
    "from skimage.morphology import disk, binary_dilation\n",
    "from scipy.ndimage import binary_fill_holes\n",
    "from skimage import filters\n",
    "\n",
    "BASE_DIR = \"..\"\n",
    "TRAINING_IMG_DIR = os.path.join(BASE_DIR, \"data\", \"training\", \"images\", \"fish\")\n",
    "ENHANCED_IMG_DIR = os.path.join(BASE_DIR, \"data\", \"training\", \"images\", \"fish_enhanced\")\n",
    "\n",
    "os.makedirs(ENHANCED_IMG_DIR, exist_ok=True)\n",
    "\n",
    "image_files = sorted([f for f in os.listdir(TRAINING_IMG_DIR) if f.endswith('_projection.tif')])\n",
    "\n",
    "print(f\"Creating enhanced images for {len(image_files)} training files...\")\n",
    "\n",
    "for filename in image_files:\n",
    "    try:\n",
    "        img_path = os.path.join(TRAINING_IMG_DIR, filename)\n",
    "        img = tifffile.imread(img_path)\n",
    "\n",
    "        threshold_value = filters.threshold_otsu(img)\n",
    "        binary_spots = img > threshold_value\n",
    "\n",
    "        dilated_spots = binary_dilation(binary_spots, footprint=disk(5))\n",
    "\n",
    "        filled_shape = binary_fill_holes(dilated_spots)\n",
    "\n",
    "        enhanced_image = filters.gaussian(filled_shape, sigma=5)\n",
    "        \n",
    "        output_path = os.path.join(ENHANCED_IMG_DIR, filename)\n",
    "        tifffile.imwrite(output_path, enhanced_image)\n",
    "        \n",
    "        print(f\"  - Created enhanced image for: {filename}\")\n",
    "\n",
    "    except Exception as e:\n",
    "        print(f\"  - FAILED to process {filename}: {e}\")\n",
    "\n",
    "print(\"\\nEnhanced training images created successfully.\")"
   ]
  }
 ],
 "metadata": {
  "kernelspec": {
   "display_name": "base",
   "language": "python",
   "name": "python3"
  },
  "language_info": {
   "codemirror_mode": {
    "name": "ipython",
    "version": 3
   },
   "file_extension": ".py",
   "mimetype": "text/x-python",
   "name": "python",
   "nbconvert_exporter": "python",
   "pygments_lexer": "ipython3",
   "version": "3.12.9"
  }
 },
 "nbformat": 4,
 "nbformat_minor": 5
}
