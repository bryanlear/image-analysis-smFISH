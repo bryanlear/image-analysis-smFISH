{
 "cells": [
  {
   "cell_type": "code",
   "execution_count": 6,
   "id": "f5280fed",
   "metadata": {},
   "outputs": [
    {
     "name": "stdout",
     "output_type": "stream",
     "text": [
      "Creating GIF from 25 frames...\n"
     ]
    },
    {
     "name": "stdout",
     "output_type": "stream",
     "text": [
      "Successfully saved GIF to: ../results/plots/TSA_CH0_segmentation.gif\n"
     ]
    }
   ],
   "source": [
    "import os\n",
    "import imageio.v2 as imageio\n",
    "import glob\n",
    "\n",
    "CONDITION = \"TSA\"\n",
    "CHANNEL = \"CH0\"\n",
    "FPS = 5\n",
    "\n",
    "BASE_DIR = \"..\"\n",
    "GIF_FRAMES_DIR = os.path.join(BASE_DIR, \"results\", \"gif_frames\", f\"{CONDITION}_{CHANNEL}\")\n",
    "RESULTS_DIR = os.path.join(BASE_DIR, \"results\", \"plots\")\n",
    "os.makedirs(RESULTS_DIR, exist_ok=True)\n",
    "\n",
    "frame_files = sorted(glob.glob(os.path.join(GIF_FRAMES_DIR, \"*.png\")))\n",
    "output_gif_path = os.path.join(RESULTS_DIR, f\"{CONDITION}_{CHANNEL}_segmentation.gif\")\n",
    "\n",
    "if frame_files:\n",
    "    print(f\"Creating GIF from {len(frame_files)} frames...\")\n",
    "\n",
    "    images = [imageio.imread(f) for f in frame_files]\n",
    "    imageio.mimsave(output_gif_path, images, fps=FPS)\n",
    "    \n",
    "    print(f\"Successfully saved GIF to: {output_gif_path}\")\n",
    "else:\n",
    "    print(\"No frames found to create a GIF.\")"
   ]
  }
 ],
 "metadata": {
  "kernelspec": {
   "display_name": "base",
   "language": "python",
   "name": "python3"
  },
  "language_info": {
   "codemirror_mode": {
    "name": "ipython",
    "version": 3
   },
   "file_extension": ".py",
   "mimetype": "text/x-python",
   "name": "python",
   "nbconvert_exporter": "python",
   "pygments_lexer": "ipython3",
   "version": "3.12.9"
  }
 },
 "nbformat": 4,
 "nbformat_minor": 5
}
