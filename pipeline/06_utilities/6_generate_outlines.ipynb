{
 "cells": [
  {
   "cell_type": "code",
   "execution_count": 6,
   "id": "32a9c171",
   "metadata": {},
   "outputs": [
    {
     "name": "stdout",
     "output_type": "stream",
     "text": [
      "Generating outline frames for 25 images in JQ1/CH0...\n"
     ]
    },
    {
     "name": "stdout",
     "output_type": "stream",
     "text": [
      "\n",
      "Outline frames saved to: ../results/gif_frames/JQ1_CH0\n"
     ]
    }
   ],
   "source": [
    "import os\n",
    "import numpy as np\n",
    "import tifffile\n",
    "import matplotlib.pyplot as plt\n",
    "from skimage.segmentation import mark_boundaries\n",
    "\n",
    "# --- Parameters to set ---\n",
    "CONDITION = \"JQ1\"\n",
    "CHANNEL = \"CH0\"\n",
    "CHANNEL_SUFFIX = \"CH0_masks\"\n",
    "\n",
    "# --- Paths ---\n",
    "BASE_DIR = \"..\"\n",
    "IMAGE_DIR = os.path.join(BASE_DIR, \"data\", \"processed\", CONDITION, CHANNEL)\n",
    "MASK_DIR = os.path.join(BASE_DIR, \"data\", \"final_masks\", CONDITION, CHANNEL_SUFFIX)\n",
    "GIF_FRAMES_DIR = os.path.join(BASE_DIR, \"results\", \"gif_frames\", f\"{CONDITION}_{CHANNEL}\")\n",
    "\n",
    "os.makedirs(GIF_FRAMES_DIR, exist_ok=True)\n",
    "\n",
    "image_files = sorted([f for f in os.listdir(IMAGE_DIR) if f.endswith('.tif')])\n",
    "\n",
    "print(f\"Generating outline frames for {len(image_files)} images in {CONDITION}/{CHANNEL}...\")\n",
    "\n",
    "for i, filename in enumerate(image_files):\n",
    "    try:\n",
    "        image = tifffile.imread(os.path.join(IMAGE_DIR, filename))\n",
    "        mask = tifffile.imread(os.path.join(MASK_DIR, filename))\n",
    "\n",
    "        # Create an image with outlines, setting the background to black\n",
    "        outline_image = mark_boundaries(image, mask, color=(1, 1, 0), mode='inner', background_label=0)\n",
    "\n",
    "        plt.imsave(os.path.join(GIF_FRAMES_DIR, f\"frame_{i:03d}.png\"), outline_image)\n",
    "        \n",
    "    except Exception as e:\n",
    "        print(f\"  - FAILED to process {filename}: {e}\")\n",
    "\n",
    "print(f\"\\nOutline frames saved to: {GIF_FRAMES_DIR}\")"
   ]
  }
 ],
 "metadata": {
  "kernelspec": {
   "display_name": "base",
   "language": "python",
   "name": "python3"
  },
  "language_info": {
   "codemirror_mode": {
    "name": "ipython",
    "version": 3
   },
   "file_extension": ".py",
   "mimetype": "text/x-python",
   "name": "python",
   "nbconvert_exporter": "python",
   "pygments_lexer": "ipython3",
   "version": "3.12.9"
  }
 },
 "nbformat": 4,
 "nbformat_minor": 5
}
