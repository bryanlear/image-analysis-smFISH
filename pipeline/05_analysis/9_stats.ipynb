{
 "cells": [
  {
   "cell_type": "code",
   "execution_count": 6,
   "id": "ddfa9f2f",
   "metadata": {},
   "outputs": [
    {
     "name": "stdout",
     "output_type": "stream",
     "text": [
      "Successfully loaded data from /home/-Project-Group-B1/results/tables/final_detailed_counts.csv\n",
      "\n",
      "--- Kruskal-Wallis H-test ---\n",
      "H-statistic: 23.1051\n",
      "P-value: 0.0000\n",
      "\n",
      "The p-value is less than 0.05, there is a significant difference exists among the three conditions.\n",
      "Performing Dunn's post-hoc test to identify which pairs are different...\n",
      "\n",
      "--- Dunn's Post-Hoc Test Results (p-values) ---\n",
      "          DMSO       JQ1       TSA\n",
      "DMSO  1.000000  0.003484  0.000007\n",
      "JQ1   0.003484  1.000000  0.111144\n",
      "TSA   0.000007  0.111144  1.000000\n"
     ]
    }
   ],
   "source": [
    "import pandas as pd\n",
    "import scikit_posthocs as sp\n",
    "from scipy import stats\n",
    "import os\n",
    "\n",
    "PROJECT_ROOT_PATH = \"/home/-Project-Group-B1\"\n",
    "RESULTS_TABLE_PATH = os.path.join(PROJECT_ROOT_PATH, \"results\", \"tables\", \"final_detailed_counts.csv\")\n",
    "\n",
    "try:\n",
    "    df = pd.read_csv(RESULTS_TABLE_PATH)\n",
    "    print(f\"Successfully loaded data from {RESULTS_TABLE_PATH}\")\n",
    "\n",
    "    # Prepare data for the test by creating a list of arrays, one for each condition\n",
    "    dmso_counts = df[df['condition'] == 'DMSO']['total_count']\n",
    "    jq1_counts = df[df['condition'] == 'JQ1']['total_count']\n",
    "    tsa_counts = df[df['condition'] == 'TSA']['total_count']\n",
    "\n",
    "    # --- Perform Kruskal-Wallis H-test ---\n",
    "    h_statistic, p_value = stats.kruskal(dmso_counts, jq1_counts, tsa_counts)\n",
    "\n",
    "    print(\"\\n--- Kruskal-Wallis H-test ---\")\n",
    "    print(f\"H-statistic: {h_statistic:.4f}\")\n",
    "    print(f\"P-value: {p_value:.4f}\")\n",
    "\n",
    "    alpha = 0.05\n",
    "    if p_value < alpha:\n",
    "        print(\"\\nThe p-value is less than 0.05, there is a significant difference exists among the three conditions.\")\n",
    "        print(\"Performing Dunn's post-hoc test to identify which pairs are different...\")\n",
    "\n",
    "        # --- Perform Dunn's post-hoc test ---\n",
    "        posthoc_results = sp.posthoc_dunn(df, val_col='total_count', group_col='condition', p_adjust='holm')\n",
    "        \n",
    "        print(\"\\n--- Dunn's Post-Hoc Test Results (p-values) ---\")\n",
    "        print(posthoc_results)\n",
    "\n",
    "    else:\n",
    "        print(\"\\nThe p-value is greater than 0.05.\")\n",
    "        print(\"There is no statistically significant difference among the three conditions.\")\n",
    "\n",
    "except FileNotFoundError:\n",
    "    print(f\"ERROR: The results file was not found at {RESULTS_TABLE_PATH}\")\n",
    "except Exception as e:\n",
    "    print(f\"An error occurred: {e}\")"
   ]
  }
 ],
 "metadata": {
  "kernelspec": {
   "display_name": "base",
   "language": "python",
   "name": "python3"
  },
  "language_info": {
   "codemirror_mode": {
    "name": "ipython",
    "version": 3
   },
   "file_extension": ".py",
   "mimetype": "text/x-python",
   "name": "python",
   "nbconvert_exporter": "python",
   "pygments_lexer": "ipython3",
   "version": "3.12.9"
  }
 },
 "nbformat": 4,
 "nbformat_minor": 5
}
